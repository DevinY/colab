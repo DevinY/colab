{
  "nbformat": 4,
  "nbformat_minor": 0,
  "metadata": {
    "colab": {
      "name": "ColabWithNovnc.ipynb",
      "provenance": [],
      "collapsed_sections": []
    },
    "kernelspec": {
      "name": "python3",
      "display_name": "Python 3"
    },
    "accelerator": "GPU"
  },
  "cells": [
    {
      "cell_type": "markdown",
      "metadata": {
        "id": "sfyN3BV8ESrQ"
      },
      "source": [
        "此內容可以讓我們建立code-server可進行遠端開發。\n",
        "另外提供novnc的使用，可以看到圖形化的輸出。\n",
        "\n",
        "首先，需填入自己主機外網連線資訊，由容器開啟的主機IP及SSH連接埠。\n",
        "https://github.com/DevinY/colab"
      ]
    },
    {
      "cell_type": "code",
      "metadata": {
        "id": "biT8dJ4B8Cso"
      },
      "source": [
        "%env SSH_SERVER=\n",
        "%env SSH_PORT="
      ],
      "execution_count": null,
      "outputs": []
    },
    {
      "cell_type": "markdown",
      "metadata": {
        "id": "ezfUxnARP57u"
      },
      "source": [
        "##套件安裝(必要)\n",
        "\n",
        "如果只想使用code-server，可以使用選項二，可花較少的時間完成安裝。"
      ]
    },
    {
      "cell_type": "markdown",
      "metadata": {
        "id": "HKeTwz51KHZa"
      },
      "source": [
        "套件選項一: 安裝VNCServer要使用novnc，安裝花較多時間。"
      ]
    },
    {
      "cell_type": "code",
      "metadata": {
        "id": "fEXZpf4BPwR3"
      },
      "source": [
        "!apt-get -y update && apt-get -y install xfce4 xfce4-goodies tightvncserver net-tools vim autocutsel openssh-server ssh-askpass"
      ],
      "execution_count": null,
      "outputs": []
    },
    {
      "cell_type": "markdown",
      "metadata": {
        "id": "RXdCtyW0e4ax"
      },
      "source": [
        "選項二: 只安裝open-ssh，例如只想用code-server時使用。"
      ]
    },
    {
      "cell_type": "code",
      "metadata": {
        "id": "lSNMAFb75wep"
      },
      "source": [
        "!apt-get -y update && apt-get -y install net-tools vim openssh-server"
      ],
      "execution_count": null,
      "outputs": []
    },
    {
      "cell_type": "markdown",
      "metadata": {
        "id": "iveAdS6pLsmN"
      },
      "source": [
        "###建立Openss金鑰(必要)"
      ]
    },
    {
      "cell_type": "markdown",
      "metadata": {
        "id": "XB3EfJWcQFTg"
      },
      "source": [
        "選項一: 產生不需要密碼的OpenSSH公鑰\n",
        "\n"
      ]
    },
    {
      "cell_type": "code",
      "metadata": {
        "id": "jT_aSPqcQD1R"
      },
      "source": [
        "!ssh-keygen -t rsa -q -f \"$HOME/.ssh/id_rsa\" -N \"\""
      ],
      "execution_count": null,
      "outputs": []
    },
    {
      "cell_type": "markdown",
      "metadata": {
        "id": "d0J2KCmmOESm"
      },
      "source": [
        "選項二: 金鑰需有密碼才能連回我們自己的主機(使用有密碼的金鑰保護自己的主機)"
      ]
    },
    {
      "cell_type": "code",
      "metadata": {
        "id": "I8bgm46nLhUv"
      },
      "source": [
        "!ssh-keygen"
      ],
      "execution_count": null,
      "outputs": []
    },
    {
      "cell_type": "code",
      "metadata": {
        "id": "1Ghvvj44Paxe"
      },
      "source": [
        "!ssh-agent"
      ],
      "execution_count": null,
      "outputs": []
    },
    {
      "cell_type": "markdown",
      "metadata": {
        "id": "HvDMfq7GP-_n"
      },
      "source": [
        "依上方的結果填入環境變數"
      ]
    },
    {
      "cell_type": "code",
      "metadata": {
        "id": "wOKYvFFhPdU0"
      },
      "source": [
        "%env SSH_AGENT_PID=843\n",
        "%env SSH_AUTH_SOCK=/tmp/ssh-fY2Lx3oDPk3r/agent.842"
      ],
      "execution_count": null,
      "outputs": []
    },
    {
      "cell_type": "code",
      "metadata": {
        "id": "TiECGwqxPl8k"
      },
      "source": [
        "!ssh-add"
      ],
      "execution_count": null,
      "outputs": []
    },
    {
      "cell_type": "markdown",
      "metadata": {
        "id": "yc5GO65A6la0"
      },
      "source": [
        "##公鑰新增\n",
        "查看下方公鑰結\b果，並將此公鑰加入到我們的colab容器中"
      ]
    },
    {
      "cell_type": "code",
      "metadata": {
        "id": "t6Qpunaf6fVu"
      },
      "source": [
        "cat ~/.ssh/id_rsa.pub"
      ],
      "execution_count": null,
      "outputs": []
    },
    {
      "cell_type": "markdown",
      "metadata": {
        "id": "3t3zsS9mENEO"
      },
      "source": [
        "驗證SSH連線，能看到回傳資料，才代表了SSH連線是正常的哦。"
      ]
    },
    {
      "cell_type": "code",
      "metadata": {
        "id": "dAK4ROuYSeYF"
      },
      "source": [
        "!ssh -o StrictHostKeyChecking=no -i /root/.ssh/id_rsa -p ${SSH_PORT} colab@${SSH_SERVER} netstat -ntlp"
      ],
      "execution_count": null,
      "outputs": []
    },
    {
      "cell_type": "markdown",
      "metadata": {
        "id": "Mr7L1UW7dpBu"
      },
      "source": [
        "將遠端主機容器內的金鑰，新增到自己colab vm的authorzied_keys中。\n",
        "> 1.連到容器上，並產生金鑰 (**注意: 原有的金鑰會被覆寫哦**)<br/>\n",
        ">2.將容器上的colab公鑰，考貝回colab的root的~/.ssh/authorized_keys"
      ]
    },
    {
      "cell_type": "code",
      "metadata": {
        "id": "6gMlYPiad0iJ"
      },
      "source": [
        "!ssh -o StrictHostKeyChecking=no -i /root/.ssh/id_rsa -p ${SSH_PORT} colab@${SSH_SERVER} sh -c ssh-keygen -t rsa -q -f \"$HOME/.ssh/id_rsa\" -N \"\"\n",
        "!scp -P ${SSH_PORT} colab@${SSH_SERVER}:~/.ssh/id_rsa.pub ~/.ssh/authorized_keys"
      ],
      "execution_count": null,
      "outputs": []
    },
    {
      "cell_type": "markdown",
      "metadata": {
        "id": "iEMBBcmQQeRA"
      },
      "source": [
        "##一、關於VNC Server\n",
        "搭配Github上的deviny/colab就能在Web透過VNC連上colab vm服務。"
      ]
    },
    {
      "cell_type": "code",
      "metadata": {
        "id": "G_PKy6B0e3sD"
      },
      "source": [
        "%env USER=root\n",
        "%env DISPLAY=:1"
      ],
      "execution_count": null,
      "outputs": []
    },
    {
      "cell_type": "code",
      "metadata": {
        "id": "FqEQkCGfQhNW"
      },
      "source": [
        "!sh -c \"USER=root;export USER;vncserver\""
      ],
      "execution_count": null,
      "outputs": []
    },
    {
      "cell_type": "markdown",
      "metadata": {
        "id": "y-WITn5UDmyi"
      },
      "source": [
        "停止VNC Server(要停止VNC Server執行用)\n"
      ]
    },
    {
      "cell_type": "code",
      "metadata": {
        "id": "ddgC02SnDmGU"
      },
      "source": [
        "!vncserver -kill :1"
      ],
      "execution_count": null,
      "outputs": []
    },
    {
      "cell_type": "markdown",
      "metadata": {
        "id": "jtapfKcsQ7Jy"
      },
      "source": [
        "novnc copy past"
      ]
    },
    {
      "cell_type": "code",
      "metadata": {
        "id": "LE_8awlxhKad"
      },
      "source": [
        "!autocutsel -fork"
      ],
      "execution_count": null,
      "outputs": []
    },
    {
      "cell_type": "markdown",
      "metadata": {
        "id": "McoeoqKwQoi_"
      },
      "source": [
        "檢查是否啟動了，會看到port 5901"
      ]
    },
    {
      "cell_type": "code",
      "metadata": {
        "id": "mpsgmBqzQvKe"
      },
      "source": [
        "!netstat -ntlp"
      ],
      "execution_count": null,
      "outputs": []
    },
    {
      "cell_type": "markdown",
      "metadata": {
        "id": "mAdcjwV07GfV"
      },
      "source": [
        "建立5901通道到遠端主機，遠端主機的連接埠"
      ]
    },
    {
      "cell_type": "code",
      "metadata": {
        "id": "N95bxZUbQ7xw"
      },
      "source": [
        "!nohup ssh -o StrictHostKeyChecking=no -i /root/.ssh/id_rsa -p ${SSH_PORT} colab@${SSH_SERVER} -NR 127.0.0.1:5901:0.0.0.0:5901&"
      ],
      "execution_count": null,
      "outputs": []
    },
    {
      "cell_type": "markdown",
      "metadata": {
        "id": "5uMpcpcx7Sdk"
      },
      "source": [
        "##二、公開colab的openssh連接埠\n",
        "如果您想直接使用SSH連線到colab的VM上\n"
      ]
    },
    {
      "cell_type": "code",
      "metadata": {
        "id": "7jWhmTKlHdgP"
      },
      "source": [
        "!mkdir -p /run/sshd\n",
        "!/usr/sbin/sshd"
      ],
      "execution_count": null,
      "outputs": []
    },
    {
      "cell_type": "code",
      "metadata": {
        "id": "73uf6sOE1AYZ"
      },
      "source": [
        "!nohup ssh -o StrictHostKeyChecking=no -i /root/.ssh/id_rsa -p ${SSH_PORT} colab@${SSH_SERVER} -NR \\*:2222:0.0.0.0:22&"
      ],
      "execution_count": null,
      "outputs": []
    },
    {
      "cell_type": "markdown",
      "metadata": {
        "id": "HMP4E0lMNI89"
      },
      "source": [
        "完成連線建立，我們可以刪除angent，防止別人由VNC連回我們的colab容器"
      ]
    },
    {
      "cell_type": "code",
      "metadata": {
        "id": "OQsLCu-CNL8F"
      },
      "source": [
        "!eval $(ssh-agent -k)"
      ],
      "execution_count": null,
      "outputs": []
    },
    {
      "cell_type": "markdown",
      "metadata": {
        "id": "X6JXYtqeS21l"
      },
      "source": [
        "以下指令，用於重新設定vnc密碼"
      ]
    },
    {
      "cell_type": "code",
      "metadata": {
        "id": "JXT3RBsbS6EE"
      },
      "source": [
        "!vncpasswd"
      ],
      "execution_count": null,
      "outputs": []
    },
    {
      "cell_type": "markdown",
      "metadata": {
        "id": "OMso0zkZn0Ps"
      },
      "source": [
        "##三、安裝code-server\n",
        "\n",
        "使用vscode進行開發，在網頁上進行開發。\n",
        "\n",
        "並且可以存接存取在terminal上的VM哦。\n"
      ]
    },
    {
      "cell_type": "code",
      "metadata": {
        "id": "DQpKy1Bl0lbz"
      },
      "source": [
        "!curl -fsSL https://code-server.dev/install.sh | sh"
      ],
      "execution_count": null,
      "outputs": []
    },
    {
      "cell_type": "markdown",
      "metadata": {
        "id": "H_aRfuAy0qFH"
      },
      "source": [
        "啟動code-server在port 8081"
      ]
    },
    {
      "cell_type": "code",
      "metadata": {
        "id": "5D-4Q29y0sfS"
      },
      "source": [
        "!nohup code-server --bind-addr 0.0.0.0:8081&"
      ],
      "execution_count": null,
      "outputs": []
    },
    {
      "cell_type": "markdown",
      "metadata": {
        "id": "7jZYPaoY0avL"
      },
      "source": [
        "建立code-server通道"
      ]
    },
    {
      "cell_type": "code",
      "metadata": {
        "id": "QqlIWUELn3jB"
      },
      "source": [
        "!nohup ssh -o StrictHostKeyChecking=no -i /root/.ssh/id_rsa -p ${SSH_PORT} colab@${SSH_SERVER} -NR \\*:8080:0.0.0.0:8081&\n",
        "!cat /root/.config/code-server/config.yaml"
      ],
      "execution_count": null,
      "outputs": []
    }
  ]
}