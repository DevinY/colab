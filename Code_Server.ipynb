{
  "nbformat": 4,
  "nbformat_minor": 0,
  "metadata": {
    "colab": {
      "name": "Code-Server.ipynb",
      "provenance": []
    },
    "kernelspec": {
      "name": "python3",
      "display_name": "Python 3"
    }
  },
  "cells": [
    {
      "cell_type": "markdown",
      "metadata": {
        "id": "XGiK_eLzsKre"
      },
      "source": [
        "Youtube Demo\n",
        "https://youtu.be/VCfWaaida1c"
      ]
    },
    {
      "cell_type": "markdown",
      "metadata": {
        "id": "CW5s6sMzV6fB"
      },
      "source": [
        "取得公鑰，加入到容器中"
      ]
    },
    {
      "cell_type": "code",
      "metadata": {
        "id": "hCN19rfqUPnH"
      },
      "source": [
        "%env SSH_SERVER=\n",
        "%env SSH_PORT=\n",
        "!ssh-keygen -t rsa -q -f \"$HOME/.ssh/id_rsa\" -N \"\"\n",
        "!cat ~/.ssh/id_rsa.pub"
      ],
      "execution_count": null,
      "outputs": []
    },
    {
      "cell_type": "markdown",
      "metadata": {
        "id": "W1cLp0SSVHmM"
      },
      "source": [
        "安裝及啟動code-server"
      ]
    },
    {
      "cell_type": "code",
      "metadata": {
        "id": "4u9hp0B3UuC_"
      },
      "source": [
        "!curl -fsSL https://code-server.dev/install.sh | sh\n",
        "!nohup code-server --bind-addr 0.0.0.0:8081&\n",
        "!nohup ssh -o StrictHostKeyChecking=no -i /root/.ssh/id_rsa -p ${SSH_PORT} colab@${SSH_SERVER} -NR \\*:8080:0.0.0.0:8081&\n"
      ],
      "execution_count": null,
      "outputs": []
    },
    {
      "cell_type": "markdown",
      "metadata": {
        "id": "K77yTjbEVzS-"
      },
      "source": [
        "顯示code-server密碼"
      ]
    },
    {
      "cell_type": "code",
      "metadata": {
        "id": "Af12msw-V3Av"
      },
      "source": [
        "!cat /root/.config/code-server/config.yaml"
      ],
      "execution_count": null,
      "outputs": []
    }
  ]
}