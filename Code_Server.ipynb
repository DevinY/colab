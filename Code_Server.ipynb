{
  "nbformat": 4,
  "nbformat_minor": 0,
  "metadata": {
    "colab": {
      "name": "Code-Server.ipynb",
      "provenance": []
    },
    "kernelspec": {
      "name": "python3",
      "display_name": "Python 3"
    },
    "accelerator": "GPU"
  },
  "cells": [
    {
      "cell_type": "markdown",
      "metadata": {
        "id": "XGiK_eLzsKre"
      },
      "source": [
        "Youtube Demo\n",
        "https://youtu.be/VCfWaaida1c"
      ]
    },
    {
      "cell_type": "markdown",
      "metadata": {
        "id": "CW5s6sMzV6fB"
      },
      "source": [
        "取得公鑰，加入到容器中"
      ]
    },
    {
      "cell_type": "code",
      "metadata": {
        "id": "hCN19rfqUPnH"
      },
      "source": [
        "%env SSH_SERVER=\n",
        "%env SSH_PORT=\n",
        "!ssh-keygen -t rsa -q -f \"$HOME/.ssh/id_rsa\" -N \"\"\n",
        "!apt-get -y update && apt-get -y install openssh-server"
      ],
      "execution_count": null,
      "outputs": []
    },
    {
      "cell_type": "code",
      "metadata": {
        "id": "113ygVnCVcpo"
      },
      "source": [
        "!cat ~/.ssh/id_rsa.pub"
      ],
      "execution_count": null,
      "outputs": []
    },
    {
      "cell_type": "markdown",
      "metadata": {
        "id": "e-IQ4XEpOF13"
      },
      "source": [
        "啟動OpenSSH Server\n",
        "在容器建立金鑰，並將公鑰設定回colab VM。\n"
      ]
    },
    {
      "cell_type": "code",
      "metadata": {
        "id": "geHclZwOOJhy"
      },
      "source": [
        "!mkdir -p /run/sshd\n",
        "!/usr/sbin/sshd\n",
        "!nohup ssh -o StrictHostKeyChecking=no -i /root/.ssh/id_rsa -p ${SSH_PORT} colab@${SSH_SERVER} -NR \\*:2222:0.0.0.0:22&\n",
        "!ssh -o StrictHostKeyChecking=no -i /root/.ssh/id_rsa -p ${SSH_PORT} colab@${SSH_SERVER} \"ssh-keygen -t rsa -q -f /home/colab/.ssh/id_rsa -N ''\"\n",
        "!scp -P ${SSH_PORT} colab@${SSH_SERVER}:~/.ssh/id_rsa.pub ~/.ssh/authorized_keys"
      ],
      "execution_count": null,
      "outputs": []
    },
    {
      "cell_type": "markdown",
      "metadata": {
        "id": "sFVmdAbBXOIC"
      },
      "source": [
        "可以直接用如下指令，在host端連回colab vm\n",
        "```\n",
        "docker-compose exec -ucolab colab ssh colab\n",
        "```\n",
        "\n"
      ]
    },
    {
      "cell_type": "markdown",
      "metadata": {
        "id": "W1cLp0SSVHmM"
      },
      "source": [
        "安裝及啟動code-server"
      ]
    },
    {
      "cell_type": "code",
      "metadata": {
        "id": "4u9hp0B3UuC_"
      },
      "source": [
        "!curl -fsSL https://code-server.dev/install.sh | sh"
      ],
      "execution_count": null,
      "outputs": []
    },
    {
      "cell_type": "markdown",
      "metadata": {
        "id": "-wWVMcw0Vw8r"
      },
      "source": [
        "Code Server不使用SSL"
      ]
    },
    {
      "cell_type": "code",
      "metadata": {
        "id": "rhuWo7QTVpT8"
      },
      "source": [
        "!nohup code-server --bind-addr 0.0.0.0:8081&\n",
        "!nohup ssh -o StrictHostKeyChecking=no -i /root/.ssh/id_rsa -p ${SSH_PORT} colab@${SSH_SERVER} -NR \\*:8080:0.0.0.0:8081&"
      ],
      "execution_count": null,
      "outputs": []
    },
    {
      "cell_type": "markdown",
      "metadata": {
        "id": "grUwxw6zSFfu"
      },
      "source": [
        "Code-Server 使用SSL版本\n",
        "需要copy憑證fullchain.pem及privkey.pem到/content內。"
      ]
    },
    {
      "cell_type": "code",
      "metadata": {
        "id": "kR--a2b1SE2X"
      },
      "source": [
        "!nohup code-server --cert fullchain.pem --cert-key privkey.pem --bind-addr 0.0.0.0:8081&\n",
        "!nohup ssh -o StrictHostKeyChecking=no -i /root/.ssh/id_rsa -p ${SSH_PORT} colab@${SSH_SERVER} -NR \\*:8080:0.0.0.0:8081&"
      ],
      "execution_count": null,
      "outputs": []
    },
    {
      "cell_type": "markdown",
      "metadata": {
        "id": "K77yTjbEVzS-"
      },
      "source": [
        "顯示code-server密碼"
      ]
    },
    {
      "cell_type": "code",
      "metadata": {
        "id": "Af12msw-V3Av"
      },
      "source": [
        "!cat /root/.config/code-server/config.yaml"
      ],
      "execution_count": null,
      "outputs": []
    },
    {
      "cell_type": "code",
      "metadata": {
        "id": "fjoRG-GObrnH"
      },
      "source": [
        "import easyocr\n",
        "reader = easyocr.Reader(['ch_tra','en']) # need to run only once to load model into memory\n",
        "result = reader.readtext('chinese.png')\n",
        "print(result)"
      ],
      "execution_count": null,
      "outputs": []
    },
    {
      "cell_type": "code",
      "metadata": {
        "id": "exmR28pRc6zD"
      },
      "source": [
        "from google.colab import drive\n",
        "drive.mount('/content/drive')"
      ],
      "execution_count": null,
      "outputs": []
    }
  ]
}