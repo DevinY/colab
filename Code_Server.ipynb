{
  "nbformat": 4,
  "nbformat_minor": 0,
  "metadata": {
    "colab": {
      "name": "Code-Server.ipynb",
      "provenance": []
    },
    "kernelspec": {
      "name": "python3",
      "display_name": "Python 3"
    }
  },
  "cells": [
    {
      "cell_type": "markdown",
      "metadata": {
        "id": "XGiK_eLzsKre"
      },
      "source": [
        "Youtube Demo\n",
        "https://youtu.be/VCfWaaida1c"
      ]
    },
    {
      "cell_type": "markdown",
      "metadata": {
        "id": "CW5s6sMzV6fB"
      },
      "source": [
        "取得公鑰，加入到容器中"
      ]
    },
    {
      "cell_type": "code",
      "metadata": {
        "id": "hCN19rfqUPnH"
      },
      "source": [
        "%env SSH_SERVER=\n",
        "%env SSH_PORT=\n",
        "!ssh-keygen -t rsa -q -f \"$HOME/.ssh/id_rsa\" -N \"\"\n",
        "!apt-get -y update && apt-get -y install openssh-server\n",
        "!cat ~/.ssh/id_rsa.pub"
      ],
      "execution_count": null,
      "outputs": []
    },
    {
      "cell_type": "markdown",
      "metadata": {
        "id": "W1cLp0SSVHmM"
      },
      "source": [
        "安裝及啟動code-server"
      ]
    },
    {
      "cell_type": "code",
      "metadata": {
        "id": "4u9hp0B3UuC_"
      },
      "source": [
        "!curl -fsSL https://code-server.dev/install.sh | sh\n",
        "!nohup code-server --bind-addr 0.0.0.0:8081&\n",
        "!nohup ssh -o StrictHostKeyChecking=no -i /root/.ssh/id_rsa -p ${SSH_PORT} colab@${SSH_SERVER} -NR \\*:8080:0.0.0.0:8081&\n"
      ],
      "execution_count": null,
      "outputs": []
    },
    {
      "cell_type": "markdown",
      "metadata": {
        "id": "K77yTjbEVzS-"
      },
      "source": [
        "顯示code-server密碼"
      ]
    },
    {
      "cell_type": "code",
      "metadata": {
        "id": "Af12msw-V3Av"
      },
      "source": [
        "!cat /root/.config/code-server/config.yaml"
      ],
      "execution_count": null,
      "outputs": []
    },
    {
      "cell_type": "markdown",
      "metadata": {
        "id": "e-IQ4XEpOF13"
      },
      "source": [
        "啟動OpenSSH Server(非必要)\n",
        "在容器建立金鑰，並將公鑰設定回colab VM。\n"
      ]
    },
    {
      "cell_type": "code",
      "metadata": {
        "id": "geHclZwOOJhy"
      },
      "source": [
        "!mkdir -p /run/sshd\n",
        "!/usr/sbin/sshd\n",
        "!nohup ssh -o StrictHostKeyChecking=no -i /root/.ssh/id_rsa -p ${SSH_PORT} colab@${SSH_SERVER} -NR \\*:2222:0.0.0.0:22&\n",
        "!ssh -o StrictHostKeyChecking=no -i /root/.ssh/id_rsa -p ${SSH_PORT} colab@${SSH_SERVER} \"ssh-keygen -t rsa -q -f /home/colab/.ssh/id_rsa -N ''\"\n",
        "!scp -P ${SSH_PORT} colab@${SSH_SERVER}:~/.ssh/id_rsa.pub ~/.ssh/authorized_keys"
      ],
      "execution_count": null,
      "outputs": []
    }
  ]
}